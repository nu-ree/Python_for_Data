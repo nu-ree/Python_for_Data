{
 "cells": [
  {
   "cell_type": "markdown",
   "metadata": {},
   "source": [
    "A small frog wants to get to the other side of the road.\n",
    "\n",
    "The frog is currently located at position X and wants to get to a position greater than or equal to Y. \n",
    "The small frog always jumps a fixed distance, D.\n",
    "\n",
    "Count the minimal number of jumps that the small frog must perform to reach its target.\n",
    "\n",
    "Write a function:\n",
    "\n",
    "def solution(X, Y, D)\n",
    "\n",
    "that, given three integers X, Y and D, returns the minimal number of jumps from position X to a position equal to or greater than Y.\n",
    "\n",
    "For example, given:\n",
    "\n",
    "  X = 10\n",
    "  Y = 85\n",
    "  D = 30\n",
    "the function should return 3, because the frog will be positioned as follows:\n",
    "\n",
    "after the first jump, at position 10 + 30 = 40\n",
    "after the second jump, at position 10 + 30 + 30 = 70\n",
    "after the third jump, at position 10 + 30 + 30 + 30 = 100\n",
    "Write an efficient algorithm for the following assumptions:\n",
    "\n",
    "X, Y and D are integers within the range [1..1,000,000,000];\n",
    "X ≤ Y.\n",
    "Copyright 2009–2019 by Codility Limited. All Rights Reserved. Unauthorized copying, publication or disclosure prohibited."
   ]
  },
  {
   "cell_type": "code",
   "execution_count": 4,
   "metadata": {},
   "outputs": [],
   "source": [
    "import math"
   ]
  },
  {
   "cell_type": "code",
   "execution_count": 5,
   "metadata": {},
   "outputs": [],
   "source": [
    "import math\n",
    "def solution(X,Y,D):\n",
    "    return math.ceil((Y-X)/D)"
   ]
  },
  {
   "cell_type": "code",
   "execution_count": 6,
   "metadata": {},
   "outputs": [],
   "source": [
    "X = 100\n",
    "Y = 850\n",
    "D = 30"
   ]
  },
  {
   "cell_type": "code",
   "execution_count": 7,
   "metadata": {},
   "outputs": [
    {
     "data": {
      "text/plain": [
       "25"
      ]
     },
     "execution_count": 7,
     "metadata": {},
     "output_type": "execute_result"
    }
   ],
   "source": [
    "value = solution(X, Y, D)\n",
    "value"
   ]
  },
  {
   "cell_type": "markdown",
   "metadata": {},
   "source": [
    "An array A consisting of N different integers is given. The array contains integers in the range [1..(N + 1)], which means that exactly one element is missing.\n",
    "\n",
    "Your goal is to find that missing element.\n",
    "\n",
    "Write a function:\n",
    "\n",
    "def solution(A)\n",
    "\n",
    "that, given an array A, returns the value of the missing element.\n",
    "\n",
    "For example, given array A such that:\n",
    "\n",
    "  A[0] = 2\n",
    "  A[1] = 3\n",
    "  A[2] = 1\n",
    "  A[3] = 5\n",
    "the function should return 4, as it is the missing element.\n",
    "\n",
    "Write an efficient algorithm for the following assumptions:\n",
    "\n",
    "N is an integer within the range [0..100,000];\n",
    "the elements of A are all distinct;\n",
    "each element of array A is an integer within the range [1..(N + 1)].\n",
    "\n",
    "\n",
    "Copyright 2009–2019 by Codility Limited. All Rights Reserved. Unauthorized copying, publication or disclosure prohibited."
   ]
  },
  {
   "cell_type": "code",
   "execution_count": 8,
   "metadata": {},
   "outputs": [],
   "source": [
    "L = [2, 1, 5, 3]\n",
    "def solution(A):\n",
    "    return list(set(range(1, len(A)+2)) - set(A))[0] # Detected time complexity: O(N) or O(N * log(N))"
   ]
  },
  {
   "cell_type": "code",
   "execution_count": 9,
   "metadata": {},
   "outputs": [
    {
     "data": {
      "text/plain": [
       "4"
      ]
     },
     "execution_count": 9,
     "metadata": {},
     "output_type": "execute_result"
    }
   ],
   "source": [
    "solution(L)"
   ]
  },
  {
   "cell_type": "markdown",
   "metadata": {},
   "source": [
    "A non-empty array A consisting of N integers is given. Array A represents numbers on a tape.\n",
    "\n",
    "Any integer P, such that 0 < P < N, splits this tape into two non-empty parts: A[0], A[1], ..., A[P − 1] and A[P], A[P + 1], ..., A[N − 1].\n",
    "\n",
    "The difference between the two parts is the value of: |(A[0] + A[1] + ... + A[P − 1]) − (A[P] + A[P + 1] + ... + A[N − 1])|\n",
    "\n",
    "In other words, it is the absolute difference between the sum of the first part and the sum of the second part.\n",
    "\n",
    "For example, consider array A such that:\n",
    "\n",
    "  A[0] = 3\n",
    "  A[1] = 1\n",
    "  A[2] = 2\n",
    "  A[3] = 4\n",
    "  A[4] = 3\n",
    "We can split this tape in four places:\n",
    "\n",
    "P = 1, difference = |3 − 10| = 7 \n",
    "P = 2, difference = |4 − 9| = 5 \n",
    "P = 3, difference = |6 − 7| = 1 \n",
    "P = 4, difference = |10 − 3| = 7 \n",
    "Write a function:\n",
    "\n",
    "def solution(A)\n",
    "\n",
    "that, given a non-empty array A of N integers, returns the minimal difference that can be achieved.\n",
    "\n",
    "For example, given:\n",
    "\n",
    "  A[0] = 3\n",
    "  A[1] = 1\n",
    "  A[2] = 2\n",
    "  A[3] = 4\n",
    "  A[4] = 3\n",
    "the function should return 1, as explained above.\n",
    "\n",
    "Write an efficient algorithm for the following assumptions:\n",
    "\n",
    "N is an integer within the range [2..100,000];\n",
    "each element of array A is an integer within the range [−1,000..1,000]."
   ]
  },
  {
   "cell_type": "code",
   "execution_count": 10,
   "metadata": {},
   "outputs": [
    {
     "data": {
      "text/plain": [
       "7"
      ]
     },
     "execution_count": 10,
     "metadata": {},
     "output_type": "execute_result"
    }
   ],
   "source": [
    "L = [3,1,2,4,3]\n",
    "P = 1\n",
    "abs(sum([3]) - sum([1,2,4,3]))\n",
    "\n",
    "P = 2\n",
    "abs(sum([3,1]) - sum([2,4,3]))\n",
    "\n",
    "P = 3\n",
    "abs(sum([3,1,2]) - sum([4,3]))\n",
    "\n",
    "P = 4\n",
    "abs(sum([3,1,2,4]) - sum([3]))"
   ]
  },
  {
   "cell_type": "code",
   "execution_count": 11,
   "metadata": {},
   "outputs": [],
   "source": [
    "def solution(A):\n",
    "    result = (100000-1) * 1000\n",
    "    for i in range(1, len(A)):\n",
    "        new_result = abs(sum(A[:i]) - sum(A[i:]))\n",
    "        print(i, 'index : ', new_result, '>>', sum(A[:i]), sum(A[i:]))\n",
    "        if new_result == 0:\n",
    "            return new_result\n",
    "        else: \n",
    "            result = min(new_result, result)\n",
    "    return result"
   ]
  },
  {
   "cell_type": "code",
   "execution_count": 12,
   "metadata": {},
   "outputs": [],
   "source": [
    "# def solution(A):\n",
    "#     result = []\n",
    "#     print(' index :  new, min, max')\n",
    "#     for i in range(1, len(A)):\n",
    "#         new_result = abs(sum(A[:i]) - sum(A[i:]))\n",
    "#         result.append(new_result)\n",
    "#         if new_result == 0:\n",
    "#             return new_result\n",
    "#         else: \n",
    "#             min_result = min(result)\n",
    "#             max_result = max(result)\n",
    "            \n",
    "#         print(i, 'index : ', sum(A[:i]), sum(A[i:]), sum(A), round(sum(A[:i])/sum(A[i:]), 2),  '>>', new_result, min_result, max_result)\n",
    "#     return min_result"
   ]
  },
  {
   "cell_type": "code",
   "execution_count": 13,
   "metadata": {},
   "outputs": [
    {
     "name": "stdout",
     "output_type": "stream",
     "text": [
      "[69, 33, -59, -28, 72, -88, 19, 38, 10, -84, 90, 46, 95, -86, -45, -10, -76, 17, 66, -80, -50, -47, 76, -32, 31, 29, 44, 94, 74, -31, 88, 55, -72, -2, -77, 99, 50, 86, 70, 28]\n",
      "1 index :  374 >> 69 443\n",
      "2 index :  308 >> 102 410\n",
      "3 index :  426 >> 43 469\n",
      "4 index :  482 >> 15 497\n",
      "5 index :  338 >> 87 425\n",
      "6 index :  514 >> -1 513\n",
      "7 index :  476 >> 18 494\n",
      "8 index :  400 >> 56 456\n",
      "9 index :  380 >> 66 446\n",
      "10 index :  548 >> -18 530\n",
      "11 index :  368 >> 72 440\n",
      "12 index :  276 >> 118 394\n",
      "13 index :  86 >> 213 299\n",
      "14 index :  258 >> 127 385\n",
      "15 index :  348 >> 82 430\n",
      "16 index :  368 >> 72 440\n",
      "17 index :  520 >> -4 516\n",
      "18 index :  486 >> 13 499\n",
      "19 index :  354 >> 79 433\n",
      "20 index :  514 >> -1 513\n",
      "21 index :  614 >> -51 563\n",
      "22 index :  708 >> -98 610\n",
      "23 index :  556 >> -22 534\n",
      "24 index :  620 >> -54 566\n",
      "25 index :  558 >> -23 535\n",
      "26 index :  500 >> 6 506\n",
      "27 index :  412 >> 50 462\n",
      "28 index :  224 >> 144 368\n",
      "29 index :  76 >> 218 294\n",
      "30 index :  138 >> 187 325\n",
      "31 index :  38 >> 275 237\n",
      "32 index :  148 >> 330 182\n",
      "33 index :  4 >> 258 254\n",
      "34 index :  0 >> 256 256\n"
     ]
    },
    {
     "data": {
      "text/plain": [
       "0"
      ]
     },
     "execution_count": 13,
     "metadata": {},
     "output_type": "execute_result"
    }
   ],
   "source": [
    "import random\n",
    "sample_list = random.sample(range(-100, 100), 40)\n",
    "print(sample_list)\n",
    "solution(sample_list)"
   ]
  },
  {
   "cell_type": "code",
   "execution_count": 21,
   "metadata": {},
   "outputs": [
    {
     "data": {
      "text/plain": [
       "53.0"
      ]
     },
     "execution_count": 21,
     "metadata": {},
     "output_type": "execute_result"
    }
   ],
   "source": [
    "(413  - 307)/2"
   ]
  },
  {
   "cell_type": "code",
   "execution_count": 46,
   "metadata": {},
   "outputs": [],
   "source": [
    "A = sample_list[0]\n",
    "B = sum(sample_list[1:])"
   ]
  },
  {
   "cell_type": "code",
   "execution_count": 52,
   "metadata": {},
   "outputs": [
    {
     "data": {
      "text/plain": [
       "229"
      ]
     },
     "execution_count": 52,
     "metadata": {},
     "output_type": "execute_result"
    }
   ],
   "source": [
    "abs(A - B) + 47*2"
   ]
  },
  {
   "cell_type": "code",
   "execution_count": null,
   "metadata": {},
   "outputs": [],
   "source": []
  },
  {
   "cell_type": "code",
   "execution_count": 63,
   "metadata": {},
   "outputs": [
    {
     "ename": "TypeError",
     "evalue": "bad operand type for unary -: 'tuple'",
     "output_type": "error",
     "traceback": [
      "\u001b[1;31m---------------------------------------------------------------------------\u001b[0m",
      "\u001b[1;31mTypeError\u001b[0m                                 Traceback (most recent call last)",
      "\u001b[1;32m<ipython-input-63-9378a660e133>\u001b[0m in \u001b[0;36m<module>\u001b[1;34m()\u001b[0m\n\u001b[1;32m----> 1\u001b[1;33m \u001b[0madding_values\u001b[0m \u001b[1;33m=\u001b[0m \u001b[1;33m[\u001b[0m\u001b[1;33m-\u001b[0m\u001b[1;33m(\u001b[0m\u001b[0melement\u001b[0m\u001b[1;33m)\u001b[0m\u001b[1;33m*\u001b[0m\u001b[1;36m2\u001b[0m \u001b[1;32mfor\u001b[0m \u001b[0melement\u001b[0m \u001b[1;32min\u001b[0m \u001b[0menumerate\u001b[0m\u001b[1;33m(\u001b[0m\u001b[0msample_list\u001b[0m\u001b[1;33m[\u001b[0m\u001b[1;36m1\u001b[0m\u001b[1;33m:\u001b[0m\u001b[1;33m]\u001b[0m\u001b[1;33m)\u001b[0m\u001b[1;33m]\u001b[0m\u001b[1;33m\u001b[0m\u001b[0m\n\u001b[0m",
      "\u001b[1;32m<ipython-input-63-9378a660e133>\u001b[0m in \u001b[0;36m<listcomp>\u001b[1;34m(.0)\u001b[0m\n\u001b[1;32m----> 1\u001b[1;33m \u001b[0madding_values\u001b[0m \u001b[1;33m=\u001b[0m \u001b[1;33m[\u001b[0m\u001b[1;33m-\u001b[0m\u001b[1;33m(\u001b[0m\u001b[0melement\u001b[0m\u001b[1;33m)\u001b[0m\u001b[1;33m*\u001b[0m\u001b[1;36m2\u001b[0m \u001b[1;32mfor\u001b[0m \u001b[0melement\u001b[0m \u001b[1;32min\u001b[0m \u001b[0menumerate\u001b[0m\u001b[1;33m(\u001b[0m\u001b[0msample_list\u001b[0m\u001b[1;33m[\u001b[0m\u001b[1;36m1\u001b[0m\u001b[1;33m:\u001b[0m\u001b[1;33m]\u001b[0m\u001b[1;33m)\u001b[0m\u001b[1;33m]\u001b[0m\u001b[1;33m\u001b[0m\u001b[0m\n\u001b[0m",
      "\u001b[1;31mTypeError\u001b[0m: bad operand type for unary -: 'tuple'"
     ]
    }
   ],
   "source": [
    "adding_values = [-(element)*2 for element in enumerate(sample_list[1:])]"
   ]
  },
  {
   "cell_type": "code",
   "execution_count": 67,
   "metadata": {},
   "outputs": [],
   "source": [
    "import numpy as np"
   ]
  },
  {
   "cell_type": "code",
   "execution_count": 81,
   "metadata": {},
   "outputs": [],
   "source": []
  },
  {
   "cell_type": "code",
   "execution_count": 82,
   "metadata": {},
   "outputs": [],
   "source": [
    "def solution(A):\n",
    "    adding_list = -np.array(A)*2\n",
    "    adding_list = [0]+list(adding_list[1:])\n",
    "    adding_cum_list = [sum(adding_list[:idxQ]) for idx, _ in enumerate(adding_list)]\n",
    "    result = abs(abs(A-B) + np.array(adding_cum_list))\n",
    "    return min(result)"
   ]
  },
  {
   "cell_type": "code",
   "execution_count": null,
   "metadata": {},
   "outputs": [],
   "source": [
    "def solution(A):\n",
    "    adding_list = -np.array(A)*2\n",
    "    adding_list = [0]+list(adding_list[1:])\n",
    "    adding_cum_list = [sum(adding_list[:idxQ]) for idx, _ in enumerate(adding_list)]\n",
    "    result = abs(abs(A-B) + np.array(adding_cum_list))\n",
    "    return min(result)"
   ]
  },
  {
   "cell_type": "code",
   "execution_count": 1,
   "metadata": {},
   "outputs": [],
   "source": [
    "def solution(A):\n",
    "    adding_list = [-A*2 for a in A]\n",
    "    adding_list = [0]+list(adding_list[1:])\n",
    "    adding_cum_list = [sum(adding_list[:idx]) for idx, _ in enumerate(adding_list)]\n",
    "    result = abs(abs(A-B) + np.array(adding_cum_list))\n",
    "    return min(result)"
   ]
  },
  {
   "cell_type": "code",
   "execution_count": 105,
   "metadata": {},
   "outputs": [],
   "source": [
    "adding_list = -np.array(sample_list)*2\n",
    "adding_list = [0]+list(adding_list[1:])\n",
    "adding_cum_list = [sum(adding_list[:idx]) for idx, _ in enumerate(adding_list)]\n",
    "result = abs(abs(A-B) + np.array(adding_cum_list))"
   ]
  },
  {
   "cell_type": "code",
   "execution_count": 131,
   "metadata": {},
   "outputs": [
    {
     "data": {
      "text/plain": [
       "135"
      ]
     },
     "execution_count": 131,
     "metadata": {},
     "output_type": "execute_result"
    }
   ],
   "source": [
    "abs(A-B)"
   ]
  },
  {
   "cell_type": "code",
   "execution_count": 130,
   "metadata": {},
   "outputs": [
    {
     "data": {
      "text/plain": [
       "-668"
      ]
     },
     "execution_count": 130,
     "metadata": {},
     "output_type": "execute_result"
    }
   ],
   "source": [
    "min(adding_cum_list)"
   ]
  },
  {
   "cell_type": "code",
   "execution_count": 129,
   "metadata": {},
   "outputs": [
    {
     "data": {
      "text/plain": [
       "[0, 0, 78, 172, 278, 414, 382, 276, 462, 428, 344, 202, 26, -82, 20, -134]"
      ]
     },
     "execution_count": 129,
     "metadata": {},
     "output_type": "execute_result"
    }
   ],
   "source": [
    "adding_cum_list[:16]"
   ]
  },
  {
   "cell_type": "code",
   "execution_count": 128,
   "metadata": {},
   "outputs": [
    {
     "data": {
      "text/plain": [
       "array([135, 135, 213, 307, 413, 549, 517, 411, 597, 563, 479, 337, 161,\n",
       "        53, 155,   1])"
      ]
     },
     "execution_count": 128,
     "metadata": {},
     "output_type": "execute_result"
    }
   ],
   "source": [
    "result[:16]"
   ]
  },
  {
   "cell_type": "code",
   "execution_count": 108,
   "metadata": {},
   "outputs": [
    {
     "data": {
      "text/plain": [
       "array([135, 135, 213, 307, 413, 549, 517, 411, 597, 563, 479, 337, 161,\n",
       "        53, 155,   1, 163,  29,  43, 133,  63,  81, 255, 375, 321, 195,\n",
       "       167, 267, 417, 267, 463, 527, 413, 449, 363, 533, 371, 391, 235,\n",
       "        59])"
      ]
     },
     "execution_count": 108,
     "metadata": {},
     "output_type": "execute_result"
    }
   ],
   "source": [
    "resulta"
   ]
  },
  {
   "cell_type": "code",
   "execution_count": 94,
   "metadata": {},
   "outputs": [
    {
     "data": {
      "text/plain": [
       "[0, 78, 94, 106, 136]"
      ]
     },
     "execution_count": 94,
     "metadata": {},
     "output_type": "execute_result"
    }
   ],
   "source": [
    "adding_list[:5]"
   ]
  },
  {
   "cell_type": "code",
   "execution_count": 97,
   "metadata": {},
   "outputs": [
    {
     "data": {
      "text/plain": [
       "[0, 78, 94, 106, 136]"
      ]
     },
     "execution_count": 97,
     "metadata": {},
     "output_type": "execute_result"
    }
   ],
   "source": [
    "adding_list[:5]"
   ]
  },
  {
   "cell_type": "code",
   "execution_count": 3,
   "metadata": {},
   "outputs": [],
   "source": [
    "import random"
   ]
  },
  {
   "cell_type": "code",
   "execution_count": 4,
   "metadata": {},
   "outputs": [],
   "source": [
    "sample_list = random.sample(range(-100, 100), 40)"
   ]
  },
  {
   "cell_type": "code",
   "execution_count": 11,
   "metadata": {},
   "outputs": [],
   "source": [
    "def solution(A):\n",
    "    x = sample_list[0]\n",
    "    y = sum(sample_list[1:])\n",
    "    adding_list = [-a*2 for a in A]\n",
    "    adding_list = [0]+list(adding_list[1:])\n",
    "    adding_cum_list = [abs(abs(x-y) + sum(adding_list[:idx])) for idx, _ in enumerate(adding_list)]\n",
    "    result = min(adding_cum_list)\n",
    "    return result"
   ]
  },
  {
   "cell_type": "code",
   "execution_count": 14,
   "metadata": {},
   "outputs": [
    {
     "data": {
      "text/plain": [
       "1"
      ]
     },
     "execution_count": 14,
     "metadata": {},
     "output_type": "execute_result"
    }
   ],
   "source": [
    "solution(sample_list)"
   ]
  },
  {
   "cell_type": "code",
   "execution_count": 13,
   "metadata": {},
   "outputs": [
    {
     "name": "stdout",
     "output_type": "stream",
     "text": [
      "[-48, -2, -59, -65, 4, 99, 27, -43, -28, -30, 82, -36, 28, 9, -41, 58, -85, 66, 11, -100, -51, 44, -56, 68, 24, 54, 90, 35, 16, 0, 57, -79, -66, 51, 34, -87, -20, 67, 2, 25]\n"
     ]
    },
    {
     "data": {
      "text/plain": [
       "1"
      ]
     },
     "execution_count": 13,
     "metadata": {},
     "output_type": "execute_result"
    }
   ],
   "source": [
    "import random\n",
    "sample_list = random.sample(range(-100, 100), 40)\n",
    "print(sample_list)\n",
    "solution(sample_list)"
   ]
  },
  {
   "cell_type": "code",
   "execution_count": null,
   "metadata": {},
   "outputs": [],
   "source": []
  }
 ],
 "metadata": {
  "kernelspec": {
   "display_name": "Python 3",
   "language": "python",
   "name": "python3"
  },
  "language_info": {
   "codemirror_mode": {
    "name": "ipython",
    "version": 3
   },
   "file_extension": ".py",
   "mimetype": "text/x-python",
   "name": "python",
   "nbconvert_exporter": "python",
   "pygments_lexer": "ipython3",
   "version": "3.6.5"
  }
 },
 "nbformat": 4,
 "nbformat_minor": 2
}
