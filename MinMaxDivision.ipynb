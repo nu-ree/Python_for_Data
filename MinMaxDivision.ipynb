{
 "cells": [
  {
   "cell_type": "markdown",
   "metadata": {},
   "source": [
    "You are given integers K, M and a non-empty array A consisting of N integers. Every element of the array is not greater than M.\n",
    "\n",
    "You should divide this array into K blocks of consecutive elements. The size of the block is any integer between 0 and N. Every element of the array should belong to some block.\n",
    "\n",
    "The sum of the block from X to Y equals A[X] + A[X + 1] + ... + A[Y]. The sum of empty block equals 0.\n",
    "\n",
    "The *large sum* is the maximal sum of any block.\n",
    "\n",
    "For example, you are given integers K = 3, M = 5 and array A such that:\n",
    "\n",
    "  A[0] = 2   A[1] = 1   A[2] = 5   A[3] = 1   A[4] = 2   A[5] = 2   A[6] = 2\n",
    "\n",
    "The array can be divided, for example, into the following blocks:\n",
    "\n",
    "> - [2, 1, 5, 1, 2, 2, 2], [], [] with a large sum of 15;\n",
    "> - [2], [1, 5, 1, 2], [2, 2] with a large sum of 9;\n",
    "> - [2, 1, 5], [], [1, 2, 2, 2] with a large sum of 8;\n",
    "> - [2, 1], [5, 1], [2, 2, 2] with a large sum of 6.\n",
    "\n",
    "The goal is to minimize the large sum. In the above example, 6 is the minimal large sum.\n",
    "\n",
    "Write a function:\n",
    "\n",
    "> ```\n",
    "> def solution(K, M, A)\n",
    "> ```\n",
    "\n",
    "that, given integers K, M and a non-empty array A consisting of N integers, returns the minimal large sum.\n",
    "\n",
    "For example, given K = 3, M = 5 and array A such that:\n",
    "\n",
    "  A[0] = 2   A[1] = 1   A[2] = 5   A[3] = 1   A[4] = 2   A[5] = 2   A[6] = 2\n",
    "\n",
    "the function should return 6, as explained above.\n",
    "\n",
    "Write an **efficient** algorithm for the following assumptions:\n",
    "\n",
    "> - N and K are integers within the range [1..100,000];\n",
    "> - M is an integer within the range [0..10,000];\n",
    "> - each element of array A is an integer within the range [0..M].\n",
    "\n",
    "Copyright 2009–2019 by Codility Limited. All Rights Reserved. Unauthorized copying, publication or disclosure prohibited."
   ]
  },
  {
   "cell_type": "code",
   "execution_count": 97,
   "metadata": {},
   "outputs": [],
   "source": [
    "A = [2, 1, 5, 1, 2, 2, 2]\n",
    "K = 3"
   ]
  },
  {
   "cell_type": "code",
   "execution_count": 100,
   "metadata": {},
   "outputs": [
    {
     "data": {
      "text/plain": [
       "2"
      ]
     },
     "execution_count": 100,
     "metadata": {},
     "output_type": "execute_result"
    }
   ],
   "source": [
    "round(len(A) / K) # 최대한 쪼갰을 때의 chunk_size"
   ]
  },
  {
   "cell_type": "code",
   "execution_count": 101,
   "metadata": {},
   "outputs": [
    {
     "name": "stdout",
     "output_type": "stream",
     "text": [
      "2\n",
      "3\n",
      "4\n",
      "5\n",
      "6\n"
     ]
    }
   ],
   "source": [
    "for min_chunk in range(round(len(A) / K), len(A)):\n",
    "    \n",
    "    print(min_chunk)"
   ]
  },
  {
   "cell_type": "markdown",
   "metadata": {},
   "source": [
    "## for min_chunk in range(round(len(A) / K), len(K)):\n",
    "    print(min_chunk)"
   ]
  },
  {
   "cell_type": "code",
   "execution_count": 103,
   "metadata": {},
   "outputs": [],
   "source": [
    "# 반복 쪼개기 \n",
    "def divide_chunk(first_idxmax, next_n):\n",
    "    next_idxmax = first_idxmax + next_n\n",
    "    divide_chunk(next_idxmax, next_n+1)\n",
    "    return next_idxmax"
   ]
  },
  {
   "cell_type": "code",
   "execution_count": 105,
   "metadata": {},
   "outputs": [
    {
     "ename": "RecursionError",
     "evalue": "maximum recursion depth exceeded",
     "output_type": "error",
     "traceback": [
      "\u001b[1;31m---------------------------------------------------------------------------\u001b[0m",
      "\u001b[1;31mRecursionError\u001b[0m                            Traceback (most recent call last)",
      "\u001b[1;32m<ipython-input-105-21d3f591603c>\u001b[0m in \u001b[0;36m<module>\u001b[1;34m()\u001b[0m\n\u001b[1;32m----> 1\u001b[1;33m \u001b[0mdivide_chunk\u001b[0m\u001b[1;33m(\u001b[0m\u001b[1;36m2\u001b[0m\u001b[1;33m,\u001b[0m \u001b[1;36m1\u001b[0m\u001b[1;33m)\u001b[0m\u001b[1;33m\u001b[0m\u001b[0m\n\u001b[0m",
      "\u001b[1;32m<ipython-input-103-5df5ba09a6a7>\u001b[0m in \u001b[0;36mdivide_chunk\u001b[1;34m(first_idxmax, next_n)\u001b[0m\n\u001b[0;32m      2\u001b[0m \u001b[1;32mdef\u001b[0m \u001b[0mdivide_chunk\u001b[0m\u001b[1;33m(\u001b[0m\u001b[0mfirst_idxmax\u001b[0m\u001b[1;33m,\u001b[0m \u001b[0mnext_n\u001b[0m\u001b[1;33m)\u001b[0m\u001b[1;33m:\u001b[0m\u001b[1;33m\u001b[0m\u001b[0m\n\u001b[0;32m      3\u001b[0m     \u001b[0mnext_idxmax\u001b[0m \u001b[1;33m=\u001b[0m \u001b[0mfirst_idxmax\u001b[0m \u001b[1;33m+\u001b[0m \u001b[0mnext_n\u001b[0m\u001b[1;33m\u001b[0m\u001b[0m\n\u001b[1;32m----> 4\u001b[1;33m     \u001b[0mdivide_chunk\u001b[0m\u001b[1;33m(\u001b[0m\u001b[0mnext_idxmax\u001b[0m\u001b[1;33m,\u001b[0m \u001b[0mnext_n\u001b[0m\u001b[1;33m+\u001b[0m\u001b[1;36m1\u001b[0m\u001b[1;33m)\u001b[0m\u001b[1;33m\u001b[0m\u001b[0m\n\u001b[0m\u001b[0;32m      5\u001b[0m     \u001b[1;32mreturn\u001b[0m \u001b[0mnext_idxmax\u001b[0m\u001b[1;33m\u001b[0m\u001b[0m\n",
      "... last 1 frames repeated, from the frame below ...\n",
      "\u001b[1;32m<ipython-input-103-5df5ba09a6a7>\u001b[0m in \u001b[0;36mdivide_chunk\u001b[1;34m(first_idxmax, next_n)\u001b[0m\n\u001b[0;32m      2\u001b[0m \u001b[1;32mdef\u001b[0m \u001b[0mdivide_chunk\u001b[0m\u001b[1;33m(\u001b[0m\u001b[0mfirst_idxmax\u001b[0m\u001b[1;33m,\u001b[0m \u001b[0mnext_n\u001b[0m\u001b[1;33m)\u001b[0m\u001b[1;33m:\u001b[0m\u001b[1;33m\u001b[0m\u001b[0m\n\u001b[0;32m      3\u001b[0m     \u001b[0mnext_idxmax\u001b[0m \u001b[1;33m=\u001b[0m \u001b[0mfirst_idxmax\u001b[0m \u001b[1;33m+\u001b[0m \u001b[0mnext_n\u001b[0m\u001b[1;33m\u001b[0m\u001b[0m\n\u001b[1;32m----> 4\u001b[1;33m     \u001b[0mdivide_chunk\u001b[0m\u001b[1;33m(\u001b[0m\u001b[0mnext_idxmax\u001b[0m\u001b[1;33m,\u001b[0m \u001b[0mnext_n\u001b[0m\u001b[1;33m+\u001b[0m\u001b[1;36m1\u001b[0m\u001b[1;33m)\u001b[0m\u001b[1;33m\u001b[0m\u001b[0m\n\u001b[0m\u001b[0;32m      5\u001b[0m     \u001b[1;32mreturn\u001b[0m \u001b[0mnext_idxmax\u001b[0m\u001b[1;33m\u001b[0m\u001b[0m\n",
      "\u001b[1;31mRecursionError\u001b[0m: maximum recursion depth exceeded"
     ]
    }
   ],
   "source": [
    "divide_chunk(2, 1)"
   ]
  },
  {
   "cell_type": "code",
   "execution_count": null,
   "metadata": {},
   "outputs": [],
   "source": [
    "\n",
    "    K = len(result_list)"
   ]
  },
  {
   "cell_type": "code",
   "execution_count": 21,
   "metadata": {},
   "outputs": [
    {
     "data": {
      "text/plain": [
       "[0, 1, 2, 3, 4, 5, 6, 7]"
      ]
     },
     "execution_count": 21,
     "metadata": {},
     "output_type": "execute_result"
    }
   ],
   "source": [
    "list(range(0, len(A)+1))"
   ]
  },
  {
   "cell_type": "code",
   "execution_count": 22,
   "metadata": {},
   "outputs": [
    {
     "data": {
      "text/plain": [
       "[0, 1, 2, 3, 4, 5, 6]"
      ]
     },
     "execution_count": 22,
     "metadata": {},
     "output_type": "execute_result"
    }
   ],
   "source": [
    "[a for a in range(0, len(A))]"
   ]
  },
  {
   "cell_type": "code",
   "execution_count": 32,
   "metadata": {},
   "outputs": [
    {
     "data": {
      "text/plain": [
       "[2, 1, 5, 1, 2, 2, 2]"
      ]
     },
     "execution_count": 32,
     "metadata": {},
     "output_type": "execute_result"
    }
   ],
   "source": [
    "A"
   ]
  },
  {
   "cell_type": "code",
   "execution_count": 95,
   "metadata": {},
   "outputs": [],
   "source": [
    "def find_next_n(prior_n, left_n):\n",
    "    return [prior_n + i for i in range(0, left_n-prior_n)]"
   ]
  },
  {
   "cell_type": "code",
   "execution_count": 93,
   "metadata": {},
   "outputs": [],
   "source": [
    "result = []\n",
    "for i in range(0, len(A)):\n",
    "    result.append(find_next_n([], i))"
   ]
  },
  {
   "cell_type": "code",
   "execution_count": 94,
   "metadata": {},
   "outputs": [
    {
     "data": {
      "text/plain": [
       "[[0],\n",
       " [0, 1],\n",
       " [0, 1, 2],\n",
       " [0, 1, 2, 3],\n",
       " [0, 1, 2, 3, 4],\n",
       " [0, 1, 2, 3, 4, 5],\n",
       " [0, 1, 2, 3, 4, 5, 6]]"
      ]
     },
     "execution_count": 94,
     "metadata": {},
     "output_type": "execute_result"
    }
   ],
   "source": [
    "result"
   ]
  },
  {
   "cell_type": "code",
   "execution_count": 55,
   "metadata": {},
   "outputs": [
    {
     "name": "stdout",
     "output_type": "stream",
     "text": [
      "[0, 0, 7] [[], [], [2, 1, 5, 1, 2, 2, 2]]\n",
      "6\n",
      "[0, 1, 6] [[], [2], [1, 5, 1, 2, 2, 2]]\n",
      "6\n",
      "[0, 2, 5] [[], [2, 1], [5, 1, 2, 2, 2]]\n",
      "6\n",
      "[0, 3, 4] [[], [2, 1, 5], [1, 2, 2, 2]]\n",
      "6\n",
      "[0, 4, 3] [[], [2, 1, 5, 1], [2, 2, 2]]\n",
      "6\n",
      "[0, 5, 2] [[], [2, 1, 5, 1, 2], [2, 2]]\n",
      "6\n",
      "[0, 6, 1] [[], [2, 1, 5, 1, 2, 2], [2]]\n",
      "6\n",
      "[1, 0, 6] [[2], [], [1, 5, 1, 2, 2, 2]]\n",
      "6\n",
      "[1, 1, 5] [[2], [1], [5, 1, 2, 2, 2]]\n",
      "6\n",
      "[1, 2, 4] [[2], [1, 5], [1, 2, 2, 2]]\n",
      "6\n",
      "[1, 3, 3] [[2], [1, 5, 1], [2, 2, 2]]\n",
      "6\n",
      "[1, 4, 2] [[2], [1, 5, 1, 2], [2, 2]]\n",
      "6\n",
      "[1, 5, 1] [[2], [1, 5, 1, 2, 2], [2]]\n",
      "6\n",
      "[2, 0, 5] [[2, 1], [], [5, 1, 2, 2, 2]]\n",
      "6\n",
      "[2, 1, 4] [[2, 1], [5], [1, 2, 2, 2]]\n",
      "6\n",
      "[2, 2, 3] [[2, 1], [5, 1], [2, 2, 2]]\n",
      "6\n",
      "[2, 3, 2] [[2, 1], [5, 1, 2], [2, 2]]\n",
      "6\n",
      "[2, 4, 1] [[2, 1], [5, 1, 2, 2], [2]]\n",
      "6\n",
      "[3, 0, 4] [[2, 1, 5], [], [1, 2, 2, 2]]\n",
      "6\n",
      "[3, 1, 3] [[2, 1, 5], [1], [2, 2, 2]]\n",
      "6\n",
      "[3, 2, 2] [[2, 1, 5], [1, 2], [2, 2]]\n",
      "6\n",
      "[3, 3, 1] [[2, 1, 5], [1, 2, 2], [2]]\n",
      "6\n",
      "[4, 0, 3] [[2, 1, 5, 1], [], [2, 2, 2]]\n",
      "6\n",
      "[4, 1, 2] [[2, 1, 5, 1], [2], [2, 2]]\n",
      "6\n",
      "[4, 2, 1] [[2, 1, 5, 1], [2, 2], [2]]\n",
      "6\n",
      "[5, 0, 2] [[2, 1, 5, 1, 2], [], [2, 2]]\n",
      "6\n",
      "[5, 1, 1] [[2, 1, 5, 1, 2], [2], [2]]\n",
      "6\n",
      "[6, 0, 1] [[2, 1, 5, 1, 2, 2], [], [2]]\n",
      "6\n"
     ]
    }
   ],
   "source": [
    "for first_n in range(0, len(A)+1):\n",
    "    for next_n in range(0, len(A) - first_n):\n",
    "        last_n = len(A)-first_n-next_n\n",
    "        first_idxmax = 0 + first_n\n",
    "        next_idxmax = first_idxmax + next_n\n",
    "        last_idx_max = next_idxmax + last_n\n",
    "        result.append(max(sum(A[:first_idxmax]), sum(A[first_idxmax:next_idxmax]), sum(A[next_idxmax:last_idx_max])))\n",
    "        print([first_n, next_n, last_n], [A[:first_idxmax], A[first_idxmax:next_idxmax], A[next_idxmax:last_idx_max]])\n",
    "#         print(\">> \", max(sum(A[:first_idxmax]), sum(A[first_idxmax:next_idxmax]), sum(A[next_idxmax:last_idx_max])))\n",
    "        min_result = min(result)\n",
    "        print(min_result)"
   ]
  },
  {
   "cell_type": "code",
   "execution_count": 83,
   "metadata": {},
   "outputs": [],
   "source": [
    "K = 3\n",
    "chunk_count = K"
   ]
  },
  {
   "cell_type": "code",
   "execution_count": 84,
   "metadata": {},
   "outputs": [
    {
     "name": "stdout",
     "output_type": "stream",
     "text": [
      "0 1 2\n",
      "0 1 1\n",
      "0 1 0\n"
     ]
    }
   ],
   "source": [
    "for first_n in range(0, len(A)+1):\n",
    "    while chunk_count > 0:\n",
    "        for next_n in range(0, len(A) - first_n):\n",
    "            last_n = len(A)-first_n-next_n\n",
    "            \n",
    "        \n",
    "        chunk_count = chunk_count -1\n",
    "        print(first_n, last_n, chunk_count)"
   ]
  },
  {
   "cell_type": "code",
   "execution_count": 52,
   "metadata": {},
   "outputs": [
    {
     "data": {
      "text/plain": [
       "2"
      ]
     },
     "execution_count": 52,
     "metadata": {},
     "output_type": "execute_result"
    }
   ],
   "source": []
  },
  {
   "cell_type": "code",
   "execution_count": 106,
   "metadata": {},
   "outputs": [
    {
     "data": {
      "text/plain": [
       "[0]"
      ]
     },
     "execution_count": 106,
     "metadata": {},
     "output_type": "execute_result"
    }
   ],
   "source": [
    "min(result)"
   ]
  },
  {
   "cell_type": "code",
   "execution_count": null,
   "metadata": {},
   "outputs": [],
   "source": []
  },
  {
   "cell_type": "markdown",
   "metadata": {},
   "source": []
  },
  {
   "cell_type": "code",
   "execution_count": null,
   "metadata": {},
   "outputs": [],
   "source": []
  },
  {
   "cell_type": "code",
   "execution_count": null,
   "metadata": {},
   "outputs": [],
   "source": []
  },
  {
   "cell_type": "code",
   "execution_count": null,
   "metadata": {},
   "outputs": [],
   "source": []
  },
  {
   "cell_type": "code",
   "execution_count": null,
   "metadata": {},
   "outputs": [],
   "source": []
  },
  {
   "cell_type": "code",
   "execution_count": null,
   "metadata": {},
   "outputs": [],
   "source": []
  },
  {
   "cell_type": "code",
   "execution_count": null,
   "metadata": {},
   "outputs": [],
   "source": []
  },
  {
   "cell_type": "code",
   "execution_count": null,
   "metadata": {},
   "outputs": [],
   "source": []
  },
  {
   "cell_type": "code",
   "execution_count": null,
   "metadata": {},
   "outputs": [],
   "source": [
    "a + b + c = 7"
   ]
  }
 ],
 "metadata": {
  "kernelspec": {
   "display_name": "Python 3",
   "language": "python",
   "name": "python3"
  },
  "language_info": {
   "codemirror_mode": {
    "name": "ipython",
    "version": 3
   },
   "file_extension": ".py",
   "mimetype": "text/x-python",
   "name": "python",
   "nbconvert_exporter": "python",
   "pygments_lexer": "ipython3",
   "version": "3.7.1"
  }
 },
 "nbformat": 4,
 "nbformat_minor": 2
}
