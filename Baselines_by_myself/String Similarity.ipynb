{
 "cells": [
  {
   "cell_type": "markdown",
   "metadata": {},
   "source": [
    "# Qgram\n",
    "- 단어를 q 개씩 쪼갠다\n",
    "- 각 쪼갠 단어를 카운트하여 백터화 한다 \n",
    "- 백터 셋에서 공통된 칼럼의 수를 센다 (matrix.minimum(matrix))\n",
    "- 전체 벡터 수로 나눈다\n",
    "- 그게 바로 유사도! "
   ]
  },
  {
   "cell_type": "code",
   "execution_count": null,
   "metadata": {},
   "outputs": [],
   "source": [
    "def qgram_similarity(s1, s2, include_wb=True, ngram=(2, 2)):\n",
    "\n",
    "#     if len(s1) != len(s2):\n",
    "#         raise ValueError('Arrays or Series have to be same length.')\n",
    "\n",
    "#     if len(s1) == len(s2) == 0:\n",
    "#         return []\n",
    "\n",
    "    # include word boundaries or not\n",
    "    analyzer = 'char_wb' if include_wb is True else 'char'\n",
    "\n",
    "    # prepare data\n",
    "    data = s1.append(s2).fillna('')\n",
    "\n",
    "    # The vectorizer\n",
    "    vectorizer = CountVectorizer(\n",
    "        analyzer=analyzer, \n",
    "        strip_accents='unicode', \n",
    "        ngram_range=ngram\n",
    "    )\n",
    "\n",
    "    vec_fit = vectorizer.fit_transform(data)\n",
    "\n",
    "    def _metric_sparse_euclidean(u, v):\n",
    "\n",
    "        match_ngrams = u.minimum(v).sum(axis=1)\n",
    "        total_ngrams = np.maximum(u.sum(axis=1), v.sum(axis=1))\n",
    "\n",
    "        # division by zero is not possible in our case, but 0/0 is possible.\n",
    "        # Numpy raises a warning in that case.\n",
    "        return np.true_divide(match_ngrams, total_ngrams).A1\n",
    "\n",
    "    return _metric_sparse_euclidean(vec_fit[:len(s1)], vec_fit[len(s1):])\n"
   ]
  },
  {
   "cell_type": "code",
   "execution_count": 7,
   "metadata": {},
   "outputs": [],
   "source": [
    "import pandas as pd"
   ]
  },
  {
   "cell_type": "code",
   "execution_count": 4,
   "metadata": {},
   "outputs": [],
   "source": [
    "data = {'CO_NAME_new_x': {41: '중도석유 월드컵주유소',\n",
    "  163: '더？푸드',\n",
    "  512: '월드마트',\n",
    "  659: '태화마트 삼척점',\n",
    "  800: '굿모닝마트',\n",
    "  869: '백조하이퍼마켓',\n",
    "  975: '청명수산',\n",
    "  1504: '명동하나이비인후과의원',\n",
    "  1539: '계절밥상 대전갤러리아타임월드점',\n",
    "  1808: '현대청과'},\n",
    " 'CO_NAME_new_y': {41: '중도석유 월드컵주유소',\n",
    "  163: '덕골생고기',\n",
    "  512: '월드마트',\n",
    "  659: '태화마트',\n",
    "  800: '굿모닝마트',\n",
    "  869: '백조한우마을',\n",
    "  975: '청명수산',\n",
    "  1504: '명동하나이비인후과의원',\n",
    "  1539: '계절밥상대전갤러리아타임월드점',\n",
    "  1808: '현대청과'},\n",
    " 'exactssame': {41: True,\n",
    "  163: False,\n",
    "  512: True,\n",
    "  659: False,\n",
    "  800: True,\n",
    "  869: False,\n",
    "  975: True,\n",
    "  1504: True,\n",
    "  1539: False,\n",
    "  1808: True},\n",
    " 'subset': {41: True,\n",
    "  163: False,\n",
    "  512: True,\n",
    "  659: True,\n",
    "  800: True,\n",
    "  869: False,\n",
    "  975: True,\n",
    "  1504: True,\n",
    "  1539: False,\n",
    "  1808: True}}"
   ]
  },
  {
   "cell_type": "code",
   "execution_count": 15,
   "metadata": {},
   "outputs": [],
   "source": [
    "sample = pd.DataFrame(data)"
   ]
  },
  {
   "cell_type": "code",
   "execution_count": 16,
   "metadata": {},
   "outputs": [
    {
     "data": {
      "text/html": [
       "<div>\n",
       "<style scoped>\n",
       "    .dataframe tbody tr th:only-of-type {\n",
       "        vertical-align: middle;\n",
       "    }\n",
       "\n",
       "    .dataframe tbody tr th {\n",
       "        vertical-align: top;\n",
       "    }\n",
       "\n",
       "    .dataframe thead th {\n",
       "        text-align: right;\n",
       "    }\n",
       "</style>\n",
       "<table border=\"1\" class=\"dataframe\">\n",
       "  <thead>\n",
       "    <tr style=\"text-align: right;\">\n",
       "      <th></th>\n",
       "      <th>CO_NAME_new_x</th>\n",
       "      <th>CO_NAME_new_y</th>\n",
       "      <th>exactssame</th>\n",
       "      <th>subset</th>\n",
       "    </tr>\n",
       "  </thead>\n",
       "  <tbody>\n",
       "    <tr>\n",
       "      <th>41</th>\n",
       "      <td>중도석유 월드컵주유소</td>\n",
       "      <td>중도석유 월드컵주유소</td>\n",
       "      <td>True</td>\n",
       "      <td>True</td>\n",
       "    </tr>\n",
       "    <tr>\n",
       "      <th>163</th>\n",
       "      <td>더？푸드</td>\n",
       "      <td>덕골생고기</td>\n",
       "      <td>False</td>\n",
       "      <td>False</td>\n",
       "    </tr>\n",
       "    <tr>\n",
       "      <th>512</th>\n",
       "      <td>월드마트</td>\n",
       "      <td>월드마트</td>\n",
       "      <td>True</td>\n",
       "      <td>True</td>\n",
       "    </tr>\n",
       "    <tr>\n",
       "      <th>659</th>\n",
       "      <td>태화마트 삼척점</td>\n",
       "      <td>태화마트</td>\n",
       "      <td>False</td>\n",
       "      <td>True</td>\n",
       "    </tr>\n",
       "    <tr>\n",
       "      <th>800</th>\n",
       "      <td>굿모닝마트</td>\n",
       "      <td>굿모닝마트</td>\n",
       "      <td>True</td>\n",
       "      <td>True</td>\n",
       "    </tr>\n",
       "    <tr>\n",
       "      <th>869</th>\n",
       "      <td>백조하이퍼마켓</td>\n",
       "      <td>백조한우마을</td>\n",
       "      <td>False</td>\n",
       "      <td>False</td>\n",
       "    </tr>\n",
       "    <tr>\n",
       "      <th>975</th>\n",
       "      <td>청명수산</td>\n",
       "      <td>청명수산</td>\n",
       "      <td>True</td>\n",
       "      <td>True</td>\n",
       "    </tr>\n",
       "    <tr>\n",
       "      <th>1504</th>\n",
       "      <td>명동하나이비인후과의원</td>\n",
       "      <td>명동하나이비인후과의원</td>\n",
       "      <td>True</td>\n",
       "      <td>True</td>\n",
       "    </tr>\n",
       "    <tr>\n",
       "      <th>1539</th>\n",
       "      <td>계절밥상 대전갤러리아타임월드점</td>\n",
       "      <td>계절밥상대전갤러리아타임월드점</td>\n",
       "      <td>False</td>\n",
       "      <td>False</td>\n",
       "    </tr>\n",
       "    <tr>\n",
       "      <th>1808</th>\n",
       "      <td>현대청과</td>\n",
       "      <td>현대청과</td>\n",
       "      <td>True</td>\n",
       "      <td>True</td>\n",
       "    </tr>\n",
       "  </tbody>\n",
       "</table>\n",
       "</div>"
      ],
      "text/plain": [
       "         CO_NAME_new_x    CO_NAME_new_y  exactssame  subset\n",
       "41         중도석유 월드컵주유소      중도석유 월드컵주유소        True    True\n",
       "163               더？푸드            덕골생고기       False   False\n",
       "512               월드마트             월드마트        True    True\n",
       "659           태화마트 삼척점             태화마트       False    True\n",
       "800              굿모닝마트            굿모닝마트        True    True\n",
       "869            백조하이퍼마켓           백조한우마을       False   False\n",
       "975               청명수산             청명수산        True    True\n",
       "1504       명동하나이비인후과의원      명동하나이비인후과의원        True    True\n",
       "1539  계절밥상 대전갤러리아타임월드점  계절밥상대전갤러리아타임월드점       False   False\n",
       "1808              현대청과             현대청과        True    True"
      ]
     },
     "execution_count": 16,
     "metadata": {},
     "output_type": "execute_result"
    }
   ],
   "source": [
    "sample"
   ]
  },
  {
   "cell_type": "code",
   "execution_count": 17,
   "metadata": {},
   "outputs": [],
   "source": [
    "sample_append = sample['CO_NAME_new_x'].append(sample['CO_NAME_new_y']).fillna('')"
   ]
  },
  {
   "cell_type": "code",
   "execution_count": 10,
   "metadata": {},
   "outputs": [],
   "source": [
    "from sklearn.feature_extraction.text import CountVectorizer"
   ]
  },
  {
   "cell_type": "code",
   "execution_count": 22,
   "metadata": {},
   "outputs": [],
   "source": [
    "import numpy as np"
   ]
  },
  {
   "cell_type": "code",
   "execution_count": 11,
   "metadata": {},
   "outputs": [],
   "source": [
    "vectorizer = CountVectorizer(\n",
    "        analyzer='char_wb', \n",
    "        strip_accents=None, \n",
    "        ngram_range=(2, 2)\n",
    "    )"
   ]
  },
  {
   "cell_type": "code",
   "execution_count": 18,
   "metadata": {},
   "outputs": [],
   "source": [
    "vec_fit = vectorizer.fit_transform(sample_append)"
   ]
  },
  {
   "cell_type": "code",
   "execution_count": 20,
   "metadata": {},
   "outputs": [],
   "source": [
    "u = vec_fit[:len(sample['CO_NAME_new_x'])]\n",
    "v = vec_fit[len(sample['CO_NAME_new_x']):]"
   ]
  },
  {
   "cell_type": "code",
   "execution_count": 23,
   "metadata": {},
   "outputs": [],
   "source": [
    "match_ngrams = u.minimum(v).sum(axis=1)\n",
    "total_ngrams = np.maximum(u.sum(axis=1), v.sum(axis=1))"
   ]
  },
  {
   "cell_type": "code",
   "execution_count": 33,
   "metadata": {},
   "outputs": [
    {
     "name": "stdout",
     "output_type": "stream",
     "text": [
      "[12  0  5  5  6  2  5 12 15  5]\n",
      "[12  6  5  9  6  8  5 12 17  5]\n",
      "[1.         0.         1.         0.55555556 1.         0.25\n",
      " 1.         1.         0.88235294 1.        ]\n"
     ]
    }
   ],
   "source": [
    "print(match_ngrams.A1)\n",
    "print(total_ngrams.A1)\n",
    "print(np.true_divide(match_ngrams, total_ngrams).A1)"
   ]
  },
  {
   "cell_type": "code",
   "execution_count": 90,
   "metadata": {},
   "outputs": [],
   "source": [
    "qgrams_of_0_x = pd.DataFrame(vec_fit.toarray(), columns = vectorizer.get_feature_names()).iloc[3]\n",
    "qgrams_of_0_y = pd.DataFrame(vec_fit.toarray(), columns = vectorizer.get_feature_names()).iloc[13]"
   ]
  },
  {
   "cell_type": "code",
   "execution_count": 91,
   "metadata": {},
   "outputs": [
    {
     "data": {
      "text/plain": [
       " 태    1\n",
       "마트    1\n",
       "태화    1\n",
       "트     1\n",
       "화마    1\n",
       "Name: 13, dtype: int64"
      ]
     },
     "execution_count": 91,
     "metadata": {},
     "output_type": "execute_result"
    }
   ],
   "source": [
    "qgrams_of_0_y[qgrams_of_0_y >=1]"
   ]
  },
  {
   "cell_type": "code",
   "execution_count": 92,
   "metadata": {
    "scrolled": true
   },
   "outputs": [
    {
     "data": {
      "text/plain": [
       " 삼    1\n",
       " 태    1\n",
       "마트    1\n",
       "삼척    1\n",
       "점     1\n",
       "척점    1\n",
       "태화    1\n",
       "트     1\n",
       "화마    1\n",
       "Name: 3, dtype: int64"
      ]
     },
     "execution_count": 92,
     "metadata": {},
     "output_type": "execute_result"
    }
   ],
   "source": [
    "qgrams_of_0_x[qgrams_of_0_x >=1]"
   ]
  },
  {
   "cell_type": "markdown",
   "metadata": {},
   "source": [
    "# longest_similarity"
   ]
  },
  {
   "cell_type": "code",
   "execution_count": 103,
   "metadata": {},
   "outputs": [],
   "source": [
    "phone = {'REP_PHONE_NUM_new_x': {30: '025563774',\n",
    "  202: '023346617',\n",
    "  309: '0324466288',\n",
    "  341: '0426729555',\n",
    "  718: '0448661753',\n",
    "  1020: '0318360435',\n",
    "  1590: '0424722203',\n",
    "  1594: '0315749274',\n",
    "  1855: '0542567877',\n",
    "  1909: '0424775475'},\n",
    " 'REP_PHONE_NUM_new_y': {30: '0200000000',\n",
    "  202: '028735005',\n",
    "  309: '0324466288',\n",
    "  341: '0426729555',\n",
    "  718: '0448661753',\n",
    "  1020: '0318360435',\n",
    "  1590: '0424722203',\n",
    "  1594: '0315749274',\n",
    "  1855: '0542766676',\n",
    "  1909: '0424775475'}}\n",
    "phone = pd.DataFrame(phone)\n",
    "conc = pd.Series(list(zip(phone['REP_PHONE_NUM_new_x'], phone['REP_PHONE_NUM_new_y'])))"
   ]
  },
  {
   "cell_type": "code",
   "execution_count": 105,
   "metadata": {},
   "outputs": [
    {
     "data": {
      "text/plain": [
       "0     (025563774, 0200000000)\n",
       "1      (023346617, 028735005)\n",
       "2    (0324466288, 0324466288)\n",
       "3    (0426729555, 0426729555)\n",
       "4    (0448661753, 0448661753)\n",
       "5    (0318360435, 0318360435)\n",
       "6    (0424722203, 0424722203)\n",
       "7    (0315749274, 0315749274)\n",
       "8    (0542567877, 0542766676)\n",
       "9    (0424775475, 0424775475)\n",
       "dtype: object"
      ]
     },
     "execution_count": 105,
     "metadata": {},
     "output_type": "execute_result"
    }
   ],
   "source": [
    "conc"
   ]
  },
  {
   "cell_type": "code",
   "execution_count": 93,
   "metadata": {},
   "outputs": [],
   "source": [
    "def lcs_iteration(x):\n",
    "        str1 = x[0]\n",
    "        str2 = x[1]\n",
    "\n",
    "        if str1 is np.nan or str2 is np.nan or min(len(str1), len(str2)) < min_len:\n",
    "            longest = 0\n",
    "            new_str1 = None\n",
    "            new_str2 = None\n",
    "        else:\n",
    "            # Creating a matrix of 0s for preprocessing\n",
    "            m = [[0] * (1 + len(str2)) for _ in range(1 + len(str1))]\n",
    "\n",
    "            # Track length of longest substring seen\n",
    "            longest = 0\n",
    "\n",
    "            # Track the ending position of this substring in str1 (x) and str2(y)\n",
    "            x_longest = 0\n",
    "            y_longest = 0\n",
    "\n",
    "            # Create matrix of substring lengths\n",
    "            for x in range(1, 1 + len(str1)):\n",
    "                for y in range(1, 1 + len(str2)):\n",
    "                    # Check if the chars match\n",
    "                    if str1[x - 1] == str2[y - 1]:\n",
    "                        # add 1 to the diagonal\n",
    "                        m[x][y] = m[x - 1][y - 1] + 1\n",
    "                        # Update values if longer than previous longest substring\n",
    "                        if m[x][y] > longest:\n",
    "                            longest = m[x][y]\n",
    "                            x_longest = x\n",
    "                            y_longest = y\n",
    "                    else:\n",
    "                        # If there is no match, start from zero\n",
    "                        m[x][y] = 0\n",
    "\n",
    "            # Copy str1 and str2, but subtract the longest common substring\n",
    "            # for the next iteration.\n",
    "            new_str1 = str1[0:x_longest-longest]+str1[x_longest:]\n",
    "            new_str2 = str2[0:y_longest-longest]+str2[y_longest:]\n",
    "\n",
    "        return (new_str1, new_str2), longest\n"
   ]
  },
  {
   "cell_type": "code",
   "execution_count": 135,
   "metadata": {},
   "outputs": [],
   "source": [
    "x = ('0424775475', '0423775475')"
   ]
  },
  {
   "cell_type": "code",
   "execution_count": 136,
   "metadata": {},
   "outputs": [],
   "source": [
    "str1 = x[0]\n",
    "str2 = x[1]\n",
    "min_len = 2"
   ]
  },
  {
   "cell_type": "code",
   "execution_count": 137,
   "metadata": {},
   "outputs": [],
   "source": [
    "# 둘 중 하나라도 비어있거나, \n",
    "if str1 is np.nan or str2 is np.nan or min(len(str1), len(str2)) < min_len:\n",
    "    longest = 0\n",
    "    new_str1 = None\n",
    "    new_str2 = None\n",
    "\n",
    "else:\n",
    "    # Creating a matrix of 0s for preprocessing\n",
    "    #x1의 길이+1 by x2의 길이+1의 0으로 된 매트릭스를 만든다. \n",
    "    m = [[0] * (1 + len(str2)) for _ in range(1 + len(str1))]\n",
    "\n",
    "    # Track length of longest substring seen\n",
    "    longest = 0\n",
    "\n",
    "    # Track the ending position of this substring in str1 (x) and str2(y)\n",
    "    x_longest = 0\n",
    "    y_longest = 0\n",
    "    \n",
    "    # Create matrix of substring lengths\n",
    "    for x in range(1, 1 + len(str1)):\n",
    "        for y in range(1, 1 + len(str2)):\n",
    "            # Check if the chars match\n",
    "            if str1[x - 1] == str2[y - 1]:\n",
    "                # add 1 to the diagonal\n",
    "                m[x][y] = m[x - 1][y - 1] + 1\n",
    "                # Update values if longer than previous longest substring\n",
    "                if m[x][y] > longest:\n",
    "                    longest = m[x][y]\n",
    "                    x_longest = x\n",
    "                    y_longest = y\n",
    "            else:\n",
    "                # If there is no match, start from zero\n",
    "                m[x][y] = 0\n",
    "\n",
    "    # Copy str1 and str2, but subtract the longest common substring\n",
    "    # for the next iteration.\n",
    "    new_str1 = str1[0:x_longest-longest]+str1[x_longest:]\n",
    "    new_str2 = str2[0:y_longest-longest]+str2[y_longest:]"
   ]
  },
  {
   "cell_type": "code",
   "execution_count": 155,
   "metadata": {},
   "outputs": [
    {
     "name": "stdout",
     "output_type": "stream",
     "text": [
      "['0', '4', '2', '4', '7', '7', '5', '4', '7', '5']\n",
      "['0', '4', '2', '3', '7', '7', '5', '4', '7', '5']\n"
     ]
    }
   ],
   "source": [
    "print(list(str1))\n",
    "print(list(str2))"
   ]
  },
  {
   "cell_type": "code",
   "execution_count": 156,
   "metadata": {},
   "outputs": [
    {
     "data": {
      "text/plain": [
       "10"
      ]
     },
     "execution_count": 156,
     "metadata": {},
     "output_type": "execute_result"
    }
   ],
   "source": [
    "len(str2)"
   ]
  },
  {
   "cell_type": "code",
   "execution_count": 154,
   "metadata": {},
   "outputs": [
    {
     "name": "stdout",
     "output_type": "stream",
     "text": [
      "0 0 are matched\n",
      "longest?  1 1 1\n",
      "4 4 are matched\n",
      "longest?  2 2 2\n",
      "4 4 are matched\n",
      "2 2 are matched\n",
      "longest?  3 3 3\n",
      "4 4 are matched\n",
      "4 4 are matched\n",
      "7 7 are matched\n",
      "7 7 are matched\n",
      "7 7 are matched\n",
      "7 7 are matched\n",
      "7 7 are matched\n",
      "7 7 are matched\n",
      "5 5 are matched\n",
      "5 5 are matched\n",
      "4 4 are matched\n",
      "4 4 are matched\n",
      "longest?  4 8 8\n",
      "7 7 are matched\n",
      "7 7 are matched\n",
      "7 7 are matched\n",
      "longest?  5 9 9\n",
      "5 5 are matched\n",
      "5 5 are matched\n",
      "longest?  6 10 10\n"
     ]
    }
   ],
   "source": [
    "longest=0\n",
    "for x in range(1, 1 + len(str1)):\n",
    "    for y in range(1, 1 + len(str2)):\n",
    "        # Check if the chars match\n",
    "            if str1[x - 1] == str2[y - 1]:\n",
    "                print(str1[x - 1], str2[y - 1], \"are matched\")\n",
    "                # add 1 to the diagonal\n",
    "                m[x][y] = m[x - 1][y - 1] + 1\n",
    "                # Update values if longer than previous longest substring\n",
    "                if m[x][y] > longest:\n",
    "                    longest = m[x][y]\n",
    "                    x_longest = x\n",
    "                    y_longest = y\n",
    "                    print(\"longest? \", longest, x, y)\n",
    "#             else: print(str1[x - 1], str2[y - 1], \"are diff\")"
   ]
  },
  {
   "cell_type": "code",
   "execution_count": 115,
   "metadata": {},
   "outputs": [],
   "source": [
    "m = [[0] * (1 + len(str2)) for _ in range(1 + len(str1))] #x1의 길이+1 by x2의 길이+1의 0으로 된 매트릭스를 만든다. "
   ]
  },
  {
   "cell_type": "code",
   "execution_count": 121,
   "metadata": {},
   "outputs": [
    {
     "data": {
      "text/plain": [
       "[0, 1, 2, 3, 4, 5, 6, 7, 8, 9]"
      ]
     },
     "execution_count": 121,
     "metadata": {},
     "output_type": "execute_result"
    }
   ],
   "source": [
    "list(range(1+len(str1)))"
   ]
  },
  {
   "cell_type": "code",
   "execution_count": 124,
   "metadata": {},
   "outputs": [
    {
     "name": "stdout",
     "output_type": "stream",
     "text": [
      "[0, 0, 0, 0, 0, 0, 0, 0, 0, 0, 0]\n",
      "[0, 0, 0, 0, 0, 0, 0, 0, 0, 0, 0]\n",
      "[0, 0, 0, 0, 0, 0, 0, 0, 0, 0, 0]\n",
      "[0, 0, 0, 0, 0, 0, 0, 0, 0, 0, 0]\n",
      "[0, 0, 0, 0, 0, 0, 0, 0, 0, 0, 0]\n",
      "[0, 0, 0, 0, 0, 0, 0, 0, 0, 0, 0]\n",
      "[0, 0, 0, 0, 0, 0, 0, 0, 0, 0, 0]\n",
      "[0, 0, 0, 0, 0, 0, 0, 0, 0, 0, 0]\n",
      "[0, 0, 0, 0, 0, 0, 0, 0, 0, 0, 0]\n",
      "[0, 0, 0, 0, 0, 0, 0, 0, 0, 0, 0]\n"
     ]
    }
   ],
   "source": [
    "for _ in range(1+len(str1)):\n",
    "    print([0] * (1 + len(str2)))"
   ]
  },
  {
   "cell_type": "code",
   "execution_count": 126,
   "metadata": {},
   "outputs": [
    {
     "data": {
      "text/plain": [
       "10"
      ]
     },
     "execution_count": 126,
     "metadata": {},
     "output_type": "execute_result"
    }
   ],
   "source": [
    "1 + len(str1)"
   ]
  },
  {
   "cell_type": "code",
   "execution_count": 125,
   "metadata": {},
   "outputs": [
    {
     "data": {
      "text/plain": [
       "11"
      ]
     },
     "execution_count": 125,
     "metadata": {},
     "output_type": "execute_result"
    }
   ],
   "source": [
    "1 + len(str2)"
   ]
  },
  {
   "cell_type": "markdown",
   "metadata": {},
   "source": [
    "m = [[0] * (1 + len(str2)) for _ in range(1 + len(str1))]"
   ]
  }
 ],
 "metadata": {
  "kernelspec": {
   "display_name": "Python 3",
   "language": "python",
   "name": "python3"
  },
  "language_info": {
   "codemirror_mode": {
    "name": "ipython",
    "version": 3
   },
   "file_extension": ".py",
   "mimetype": "text/x-python",
   "name": "python",
   "nbconvert_exporter": "python",
   "pygments_lexer": "ipython3",
   "version": "3.6.5"
  }
 },
 "nbformat": 4,
 "nbformat_minor": 2
}
